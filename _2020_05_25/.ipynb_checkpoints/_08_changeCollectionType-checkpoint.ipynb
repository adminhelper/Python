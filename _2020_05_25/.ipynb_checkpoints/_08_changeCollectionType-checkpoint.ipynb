{
 "cells": [
  {
   "cell_type": "code",
   "execution_count": 3,
   "metadata": {
    "scrolled": true
   },
   "outputs": [
    {
     "name": "stdout",
     "output_type": "stream",
     "text": [
      "[1, 2, 3, 4, 5, 1, 2, 7] <class 'list'>\n"
     ]
    }
   ],
   "source": [
    "a = [1, 2, 3, 4, 5, 1, 2, 7]\n",
    "print(a, type(a))"
   ]
  },
  {
   "cell_type": "code",
   "execution_count": 5,
   "metadata": {},
   "outputs": [
    {
     "name": "stdout",
     "output_type": "stream",
     "text": [
      "{1, 2, 3, 4, 5, 7} <class 'set'>\n",
      "[1, 2, 3, 4, 5, 7] <class 'list'>\n"
     ]
    }
   ],
   "source": [
    "s = set(a)\n",
    "print(s, type(s))\n",
    "a = list(s)\n",
    "print(a, type(a))"
   ]
  },
  {
   "cell_type": "code",
   "execution_count": 7,
   "metadata": {},
   "outputs": [
    {
     "name": "stdout",
     "output_type": "stream",
     "text": [
      "(1, 2, 3, 4, 5, 7) <class 'tuple'>\n",
      "{1, 2, 3, 4, 5, 7} <class 'set'>\n"
     ]
    }
   ],
   "source": [
    "t = tuple(a)\n",
    "print(t, type(t))\n",
    "\n",
    "s = set(t)\n",
    "print(s, type(s))"
   ]
  },
  {
   "cell_type": "code",
   "execution_count": 14,
   "metadata": {
    "scrolled": true
   },
   "outputs": [
    {
     "name": "stdout",
     "output_type": "stream",
     "text": [
      "(1, 2, 3, 4, 5, 4, 5, 6, 7, 8)\n",
      "(1, 2, 3, 4, 5, 6, 7, 8)\n",
      "[1, 2, 3, 4, 5, 6, 7, 8]\n",
      "[1, 2, 3, 4, 5, 6, 7, 8, 9, 10, 11, 12]\n",
      "(1, 2, 3, 4, 5, 6, 7, 8, 9, 10, 11, 12)\n"
     ]
    }
   ],
   "source": [
    "t0 = (1, 2, 3, 4, 5)\n",
    "t1 = (4, 5, 6, 7, 8)\n",
    "t2 = t0 + t1\n",
    "print(t2)\n",
    "\n",
    "t2 = tuple(set(t0) | set(t1))\n",
    "print(t2)\n",
    "\n",
    "a = list(t2)\n",
    "print(a)\n",
    "a.append(9)\n",
    "a.extend([10, 11, 12])\n",
    "print(a)\n",
    "\n",
    "t = tuple(a)\n",
    "print(t)"
   ]
  },
  {
   "cell_type": "code",
   "execution_count": null,
   "metadata": {},
   "outputs": [],
   "source": []
  }
 ],
 "metadata": {
  "kernelspec": {
   "display_name": "Python 3",
   "language": "python",
   "name": "python3"
  },
  "language_info": {
   "codemirror_mode": {
    "name": "ipython",
    "version": 3
   },
   "file_extension": ".py",
   "mimetype": "text/x-python",
   "name": "python",
   "nbconvert_exporter": "python",
   "pygments_lexer": "ipython3",
   "version": "3.7.6"
  }
 },
 "nbformat": 4,
 "nbformat_minor": 4
}
