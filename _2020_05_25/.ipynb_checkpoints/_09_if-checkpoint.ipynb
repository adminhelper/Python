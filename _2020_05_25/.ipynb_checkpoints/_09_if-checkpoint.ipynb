{
 "cells": [
  {
   "cell_type": "markdown",
   "metadata": {},
   "source": [
    "# if문\n",
    "\n",
    "- 조건문\n",
    "- True면 실행\n",
    "#### - 파이썬은 들여쓰기가 매우 중요하다\n",
    "#### - 제어문의 영역을 { } 가 아닌 들여쓰기로 표현한다"
   ]
  },
  {
   "cell_type": "code",
   "execution_count": 2,
   "metadata": {},
   "outputs": [
    {
     "name": "stdout",
     "output_type": "stream",
     "text": [
      "True\n",
      "<class 'bool'>\n"
     ]
    }
   ],
   "source": [
    "money = True\n",
    "print(money, type(money), sep='\\n')"
   ]
  },
  {
   "cell_type": "code",
   "execution_count": 8,
   "metadata": {},
   "outputs": [
    {
     "name": "stdout",
     "output_type": "stream",
     "text": [
      "택시를 타고 가라\n",
      "집에 도착\n",
      "********************\n",
      "집에 도착\n"
     ]
    }
   ],
   "source": [
    "money = True\n",
    "if money:\n",
    "    print('택시를 타고 가라')\n",
    "print('집에 도착')\n",
    "print('*' * 20, end='\\n')\n",
    "\n",
    "money = False\n",
    "if money:\n",
    "    print('택시를 타고 가라')\n",
    "print('집에 도착')\n"
   ]
  },
  {
   "cell_type": "code",
   "execution_count": 14,
   "metadata": {},
   "outputs": [
    {
     "name": "stdout",
     "output_type": "stream",
     "text": [
      "True/False를 입력True\n",
      "현재 돈이 있다\n",
      "택시를 타고 가라\n"
     ]
    }
   ],
   "source": [
    "money = input('True/False를 입력')\n",
    "if money=='True':\n",
    "    print('현재 돈이 있다')\n",
    "    print('택시를 타고 가라')\n",
    "else:\n",
    "    print('현재 돈이 없구나')\n",
    "    print('걸어가라')"
   ]
  },
  {
   "cell_type": "code",
   "execution_count": 15,
   "metadata": {},
   "outputs": [
    {
     "name": "stdout",
     "output_type": "stream",
     "text": [
      "음식을 사먹어라\n",
      "걸어가라\n"
     ]
    }
   ],
   "source": [
    "money = 2000\n",
    "if money >= 3000:\n",
    "    print('택시를 타고 가라')\n",
    "else:\n",
    "    print('음식을 사먹어라')\n",
    "    print('걸어가라')"
   ]
  },
  {
   "cell_type": "code",
   "execution_count": 16,
   "metadata": {},
   "outputs": [
    {
     "name": "stdout",
     "output_type": "stream",
     "text": [
      "택시를 타고 가라\n"
     ]
    }
   ],
   "source": [
    "money = 2000\n",
    "card = True\n",
    "if money >= 3000 or card:\n",
    "    print('택시를 타고 가라')\n",
    "else:\n",
    "    print('걸어가라')"
   ]
  },
  {
   "cell_type": "code",
   "execution_count": 17,
   "metadata": {},
   "outputs": [
    {
     "name": "stdout",
     "output_type": "stream",
     "text": [
      "True\n",
      "False\n",
      "True\n"
     ]
    }
   ],
   "source": [
    "print(True or False)\n",
    "print(True and False)\n",
    "print(not False)"
   ]
  },
  {
   "cell_type": "code",
   "execution_count": 18,
   "metadata": {},
   "outputs": [
    {
     "name": "stdout",
     "output_type": "stream",
     "text": [
      "False\n"
     ]
    }
   ],
   "source": [
    "a = [1, 2, 3, 4, 5]\n",
    "print(10 in a)"
   ]
  },
  {
   "cell_type": "code",
   "execution_count": 24,
   "metadata": {
    "scrolled": true
   },
   "outputs": [
    {
     "name": "stdout",
     "output_type": "stream",
     "text": [
      "True\n",
      "True\n",
      "6\n",
      "p\n",
      "y\n",
      "t\n",
      "h\n",
      "o\n",
      "n\n"
     ]
    }
   ],
   "source": [
    "a = list('python')\n",
    "print('p' in a)\n",
    "print('p' in 'python')\n",
    "print(len('python'))\n",
    "for a in 'python':\n",
    "    print(a)"
   ]
  },
  {
   "cell_type": "code",
   "execution_count": 25,
   "metadata": {},
   "outputs": [
    {
     "name": "stdout",
     "output_type": "stream",
     "text": [
      "택시를 타고 가라\n"
     ]
    }
   ],
   "source": [
    "pocket = ['paper', 'cellphone']\n",
    "card = True\n",
    "if 'money' in pocket:\n",
    "    print('택시를 타고 가라')\n",
    "elif card:\n",
    "    print('택시를 타고 가라')\n",
    "else:\n",
    "    print('걸어가라')"
   ]
  },
  {
   "cell_type": "code",
   "execution_count": null,
   "metadata": {},
   "outputs": [],
   "source": []
  }
 ],
 "metadata": {
  "kernelspec": {
   "display_name": "Python 3",
   "language": "python",
   "name": "python3"
  },
  "language_info": {
   "codemirror_mode": {
    "name": "ipython",
    "version": 3
   },
   "file_extension": ".py",
   "mimetype": "text/x-python",
   "name": "python",
   "nbconvert_exporter": "python",
   "pygments_lexer": "ipython3",
   "version": "3.7.6"
  }
 },
 "nbformat": 4,
 "nbformat_minor": 4
}
