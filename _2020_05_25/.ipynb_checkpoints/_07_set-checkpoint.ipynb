{
 "cells": [
  {
   "cell_type": "markdown",
   "metadata": {},
   "source": [
    "# set(집합)\n",
    "\n",
    "- 순서가 없다\n",
    "- 데이터의 모음\n",
    "- 중복이 안됨(합집합)\n",
    "- 합집합, 교집합, 차집합, 여집합\n",
    "- 값이 있는 {1, 2, 3}, set()\n",
    "- { }는 dict"
   ]
  },
  {
   "cell_type": "code",
   "execution_count": 5,
   "metadata": {},
   "outputs": [
    {
     "name": "stdout",
     "output_type": "stream",
     "text": [
      "{1, 2, 3}\t<class 'set'>\n",
      "set()\t<class 'set'>\n"
     ]
    }
   ],
   "source": [
    "s1 = {1, 2, 3}\n",
    "s2 = set()\n",
    "print(s1, type(s1), sep='\\t', end='\\n')\n",
    "print(s2, type(s2), sep='\\t', end='\\n')"
   ]
  },
  {
   "cell_type": "code",
   "execution_count": 13,
   "metadata": {
    "scrolled": true
   },
   "outputs": [
    {
     "name": "stdout",
     "output_type": "stream",
     "text": [
      "{4, 5, 6}\n",
      "{4, 5, 6}\n",
      "\n",
      "{1, 2, 3, 4, 5, 6, 7, 8, 9}\n",
      "{1, 2, 3, 4, 5, 6, 7, 8, 9}\n",
      "\n",
      "{1, 2, 3}\n",
      "{8, 9, 7}\n",
      "{1, 2, 3}\n"
     ]
    }
   ],
   "source": [
    "s0 = {1, 2, 3, 4, 5, 6}\n",
    "s1 = {4, 5, 6, 7, 8, 9}\n",
    "\n",
    "print(s0 & s1)              # 교집합\n",
    "print(s0.intersection(s1))  # 교집합\n",
    "print()\n",
    "print(s0 | s1)              # 합집합\n",
    "print(s0.union(s1))         # 합집합\n",
    "print()\n",
    "print(s0 - s1)              # 차집합\n",
    "print(s1 - s0)              # 차집합\n",
    "print(s0.difference(s1))    # 차집합"
   ]
  },
  {
   "cell_type": "code",
   "execution_count": 16,
   "metadata": {},
   "outputs": [
    {
     "name": "stdout",
     "output_type": "stream",
     "text": [
      "{1, 2, 3, 4}\n",
      "{1, 2, 3, 4, 5, 6, 7}\n",
      "{1, 3, 4, 5, 6, 7}\n"
     ]
    }
   ],
   "source": [
    "# 값 1개 추가하기(add)\n",
    "s1 = {1, 2, 3}\n",
    "s1.add(4)\n",
    "print(s1)\n",
    "\n",
    "# 값 여러 개 추가하기(update)\n",
    "s1.update([5, 6, 7])\n",
    "print(s1)\n",
    "\n",
    "# 값 제거하기(remove)\n",
    "s1.remove(2)\n",
    "print(s1)"
   ]
  },
  {
   "cell_type": "code",
   "execution_count": null,
   "metadata": {},
   "outputs": [],
   "source": []
  }
 ],
 "metadata": {
  "kernelspec": {
   "display_name": "Python 3",
   "language": "python",
   "name": "python3"
  },
  "language_info": {
   "codemirror_mode": {
    "name": "ipython",
    "version": 3
   },
   "file_extension": ".py",
   "mimetype": "text/x-python",
   "name": "python",
   "nbconvert_exporter": "python",
   "pygments_lexer": "ipython3",
   "version": "3.7.6"
  }
 },
 "nbformat": 4,
 "nbformat_minor": 4
}
