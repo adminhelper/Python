{
 "cells": [
  {
   "cell_type": "code",
   "execution_count": 1,
   "metadata": {},
   "outputs": [
    {
     "name": "stdout",
     "output_type": "stream",
     "text": [
      "123\n",
      "127\n",
      "167\n",
      "10\n"
     ]
    }
   ],
   "source": [
    "# 숫자형\n",
    "num = 123    # 10진수\n",
    "print(num)\n",
    "\n",
    "num = 0o177  # 8진수\n",
    "print(num)\n",
    "\n",
    "num = 0xa7  # 16진수\n",
    "print(num)\n",
    "\n",
    "num = 0b1010 # 2진수\n",
    "print(num)"
   ]
  },
  {
   "cell_type": "code",
   "execution_count": 2,
   "metadata": {},
   "outputs": [
    {
     "data": {
      "text/plain": [
       "'0b1100100'"
      ]
     },
     "execution_count": 2,
     "metadata": {},
     "output_type": "execute_result"
    }
   ],
   "source": [
    "bin(100)"
   ]
  },
  {
   "cell_type": "code",
   "execution_count": 3,
   "metadata": {},
   "outputs": [
    {
     "data": {
      "text/plain": [
       "'0o144'"
      ]
     },
     "execution_count": 3,
     "metadata": {},
     "output_type": "execute_result"
    }
   ],
   "source": [
    "oct(100)"
   ]
  },
  {
   "cell_type": "code",
   "execution_count": 4,
   "metadata": {},
   "outputs": [
    {
     "data": {
      "text/plain": [
       "'0x64'"
      ]
     },
     "execution_count": 4,
     "metadata": {},
     "output_type": "execute_result"
    }
   ],
   "source": [
    "hex(100)"
   ]
  },
  {
   "cell_type": "code",
   "execution_count": 5,
   "metadata": {},
   "outputs": [
    {
     "name": "stdout",
     "output_type": "stream",
     "text": [
      "3.14\n",
      "<class 'float'>\n"
     ]
    }
   ],
   "source": [
    "num = 3.14\n",
    "print(num)\n",
    "print(type(num))"
   ]
  },
  {
   "cell_type": "code",
   "execution_count": 6,
   "metadata": {},
   "outputs": [
    {
     "data": {
      "text/plain": [
       "2.3333333333333335"
      ]
     },
     "execution_count": 6,
     "metadata": {},
     "output_type": "execute_result"
    }
   ],
   "source": [
    "7/3"
   ]
  },
  {
   "cell_type": "code",
   "execution_count": 7,
   "metadata": {},
   "outputs": [
    {
     "name": "stdout",
     "output_type": "stream",
     "text": [
      "홍길동 임꺽정 장길산\n"
     ]
    }
   ],
   "source": [
    "name = \"홍길동\"\n",
    "name1 = \"임꺽정\"\n",
    "name2 = '장길산'\n",
    "print(name, name1, name2)"
   ]
  },
  {
   "cell_type": "code",
   "execution_count": 8,
   "metadata": {},
   "outputs": [
    {
     "name": "stdout",
     "output_type": "stream",
     "text": [
      "2.3333333333333335\n",
      "2\n",
      "1\n"
     ]
    }
   ],
   "source": [
    "print(7/3)\n",
    "print(7//3)\n",
    "print(7%3)"
   ]
  },
  {
   "cell_type": "code",
   "execution_count": 10,
   "metadata": {},
   "outputs": [
    {
     "name": "stdout",
     "output_type": "stream",
     "text": [
      "Python's favorite food is perl\n"
     ]
    }
   ],
   "source": [
    "food = \"Python's favorite food is perl\"\n",
    "print(food)"
   ]
  },
  {
   "cell_type": "code",
   "execution_count": 11,
   "metadata": {},
   "outputs": [
    {
     "name": "stdout",
     "output_type": "stream",
     "text": [
      "나는 \"홍길동\"입니다.\n"
     ]
    }
   ],
   "source": [
    "name = '나는 \"홍길동\"입니다.'\n",
    "print(name)"
   ]
  },
  {
   "cell_type": "code",
   "execution_count": 15,
   "metadata": {},
   "outputs": [
    {
     "name": "stdout",
     "output_type": "stream",
     "text": [
      "Life is too short\n",
      "You need to Python\n"
     ]
    }
   ],
   "source": [
    "word = \"Life is too short\\nYou need to Python\"\n",
    "print(word)"
   ]
  },
  {
   "cell_type": "code",
   "execution_count": 17,
   "metadata": {},
   "outputs": [
    {
     "name": "stdout",
     "output_type": "stream",
     "text": [
      "Life is too short\n",
      "\n",
      "\n",
      "\n",
      "You need to Python\n"
     ]
    }
   ],
   "source": [
    "word = \"\"\"Life is too short\n",
    "\n",
    "\n",
    "\n",
    "You need to Python\"\"\"\n",
    "print(word)"
   ]
  },
  {
   "cell_type": "code",
   "execution_count": 18,
   "metadata": {},
   "outputs": [
    {
     "name": "stdout",
     "output_type": "stream",
     "text": [
      "홍길동은 의적입니다\n"
     ]
    }
   ],
   "source": [
    "name = \"홍길동\"\n",
    "job = \" 의적\"\n",
    "print(name + \"은\" + job + \"입니다\")"
   ]
  },
  {
   "cell_type": "code",
   "execution_count": 19,
   "metadata": {},
   "outputs": [
    {
     "name": "stdout",
     "output_type": "stream",
     "text": [
      "***********************\n",
      "1. Insert\n",
      "2. Delete\n",
      "3. Update\n",
      "4. Select\n",
      "5. Exit\n",
      "***********************\n"
     ]
    }
   ],
   "source": [
    "print(\"***********************\")\n",
    "print(\"1. Insert\")\n",
    "print(\"2. Delete\")\n",
    "print(\"3. Update\")\n",
    "print(\"4. Select\")\n",
    "print(\"5. Exit\")\n",
    "print(\"***********************\")"
   ]
  },
  {
   "cell_type": "code",
   "execution_count": 20,
   "metadata": {},
   "outputs": [
    {
     "name": "stdout",
     "output_type": "stream",
     "text": [
      "------------------------\n",
      "1. Insert\n",
      "2. Delete\n",
      "3. Update\n",
      "4. Select\n",
      "5. Exit\n",
      "------------------------\n"
     ]
    }
   ],
   "source": [
    "print(\"------------------------\")\n",
    "print(\"1. Insert\")\n",
    "print(\"2. Delete\")\n",
    "print(\"3. Update\")\n",
    "print(\"4. Select\")\n",
    "print(\"5. Exit\")\n",
    "print(\"------------------------\")"
   ]
  },
  {
   "cell_type": "code",
   "execution_count": 21,
   "metadata": {},
   "outputs": [
    {
     "name": "stdout",
     "output_type": "stream",
     "text": [
      "------------------------------\n",
      "1. Insert\n",
      "2. Delete\n",
      "3. Update\n",
      "4. Select\n",
      "5. Exit\n",
      "------------------------------\n"
     ]
    }
   ],
   "source": [
    "print(\"-\" * 30)\n",
    "print(\"1. Insert\")\n",
    "print(\"2. Delete\")\n",
    "print(\"3. Update\")\n",
    "print(\"4. Select\")\n",
    "print(\"5. Exit\")\n",
    "print(\"-\" * 30)"
   ]
  },
  {
   "cell_type": "code",
   "execution_count": 24,
   "metadata": {},
   "outputs": [
    {
     "name": "stdout",
     "output_type": "stream",
     "text": [
      "******************************\n",
      "1. Insert\n",
      "2. Delete\n",
      "3. Update\n",
      "4. Select\n",
      "5. Exit\n",
      "******************************\n",
      "##################################################\n",
      "1. Insert\n",
      "2. Delete\n",
      "3. Update\n",
      "4. Select\n",
      "5. Exit\n",
      "##################################################\n",
      "*-*-*-*-*-*-*-*-*-*-*-*-*-*-*-*-*-*-*-*-*-*-*-*-*-*-*-*-*-*-\n",
      "1. Insert\n",
      "2. Delete\n",
      "3. Update\n",
      "4. Select\n",
      "5. Exit\n",
      "*-*-*-*-*-*-*-*-*-*-*-*-*-*-*-*-*-*-*-*-*-*-*-*-*-*-*-*-*-*-\n"
     ]
    }
   ],
   "source": [
    "def printMenu(ch, cnt):\n",
    "    print(ch * cnt)\n",
    "    print(\"1. Insert\")\n",
    "    print(\"2. Delete\")\n",
    "    print(\"3. Update\")\n",
    "    print(\"4. Select\")\n",
    "    print(\"5. Exit\")\n",
    "    print(ch * cnt)\n",
    "    \n",
    "printMenu('*', 30)\n",
    "printMenu('#', 50)\n",
    "printMenu('*-', 30)"
   ]
  },
  {
   "cell_type": "code",
   "execution_count": null,
   "metadata": {},
   "outputs": [],
   "source": []
  }
 ],
 "metadata": {
  "kernelspec": {
   "display_name": "Python 3",
   "language": "python",
   "name": "python3"
  },
  "language_info": {
   "codemirror_mode": {
    "name": "ipython",
    "version": 3
   },
   "file_extension": ".py",
   "mimetype": "text/x-python",
   "name": "python",
   "nbconvert_exporter": "python",
   "pygments_lexer": "ipython3",
   "version": "3.7.6"
  }
 },
 "nbformat": 4,
 "nbformat_minor": 4
}
